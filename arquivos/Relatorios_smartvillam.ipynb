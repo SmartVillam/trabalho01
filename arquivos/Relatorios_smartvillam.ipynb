{
  "nbformat": 4,
  "nbformat_minor": 0,
  "metadata": {
    "colab": {
      "name": "Relatorios_smartvillam.ipynb",
      "version": "0.3.2",
      "provenance": [],
      "collapsed_sections": []
    },
    "kernelspec": {
      "display_name": "Python 3",
      "language": "python",
      "name": "python3"
    }
  },
  "cells": [
    {
      "metadata": {
        "id": "DYVv1lUr5p5R",
        "colab_type": "text"
      },
      "cell_type": "markdown",
      "source": [
        "# Conexão com postgres e Histórias de Usuários"
      ]
    },
    {
      "metadata": {
        "id": "_KymJF-R5p5T",
        "colab_type": "text"
      },
      "cell_type": "markdown",
      "source": [
        "## Instalando biblioteca de acesso com postgres"
      ]
    },
    {
      "metadata": {
        "id": "jl7bz3Np5p5V",
        "colab_type": "raw"
      },
      "cell_type": "markdown",
      "source": [
        "!pip install --user psycopg2-binary\n",
        "!pip install --user seaborn"
      ]
    },
    {
      "metadata": {
        "id": "Etk6StL85p5X",
        "colab_type": "text"
      },
      "cell_type": "markdown",
      "source": [
        "### Importando biblioteca psycopg2 e Configurando conexão e usando cursosr"
      ]
    },
    {
      "metadata": {
        "id": "1WMPGwS95p5Y",
        "colab_type": "code",
        "outputId": "e8cd62fa-c065-4c01-ca94-751271560502",
        "colab": {
          "base_uri": "https://localhost:8080/",
          "height": 71
        }
      },
      "cell_type": "code",
      "source": [
        "import psycopg2\n",
        "conn = psycopg2.connect(host=\"baasu.db.elephantsql.com\",database=\"qvhjdrhp\", user=\"qvhjdrhp\", password=\"XaGjXBdpkhAIs-RCib3QHeNpt5FMnU7o\")"
      ],
      "execution_count": 0,
      "outputs": [
        {
          "output_type": "stream",
          "text": [
            "/usr/local/lib/python3.6/dist-packages/psycopg2/__init__.py:144: UserWarning: The psycopg2 wheel package will be renamed from release 2.8; in order to keep installing from binary please use \"pip install psycopg2-binary\" instead. For details see: <http://initd.org/psycopg/docs/install.html#binary-install-from-pypi>.\n",
            "  \"\"\")\n"
          ],
          "name": "stderr"
        }
      ]
    },
    {
      "metadata": {
        "id": "VV4o6fXX5p5f",
        "colab_type": "text"
      },
      "cell_type": "markdown",
      "source": [
        "## Obtendo dados do database com Pandas"
      ]
    },
    {
      "metadata": {
        "id": "2S6BVYVi5p5g",
        "colab_type": "raw"
      },
      "cell_type": "markdown",
      "source": [
        "!pip install --user pandas"
      ]
    },
    {
      "metadata": {
        "id": "yJonpIdq5p5i",
        "colab_type": "code",
        "colab": {}
      },
      "cell_type": "code",
      "source": [
        "import pandas as pd"
      ],
      "execution_count": 0,
      "outputs": []
    },
    {
      "metadata": {
        "id": "LWK1zj_05p5m",
        "colab_type": "text"
      },
      "cell_type": "markdown",
      "source": [
        "# Historia 1"
      ]
    },
    {
      "metadata": {
        "id": "1_EpM30j5p5o",
        "colab_type": "text"
      },
      "cell_type": "markdown",
      "source": [
        "### Objetivo: Obter as culturas que possuem maior necessidade de nutrientes <br>  Peso Planing Poker: 1"
      ]
    },
    {
      "metadata": {
        "id": "qhXfKU8y5p5q",
        "colab_type": "text"
      },
      "cell_type": "markdown",
      "source": [
        "Código para obtenção do resultado:"
      ]
    },
    {
      "metadata": {
        "scrolled": true,
        "id": "VrxyxwcM5p5s",
        "colab_type": "code",
        "outputId": "990a1a79-77ba-4f60-dc93-924373dfbfdb",
        "colab": {
          "base_uri": "https://localhost:8080/",
          "height": 359
        }
      },
      "cell_type": "code",
      "source": [
        "result1 = pd.read_sql_query(\"\"\"\n",
        "                            Select cod_plant, nome_cult, quantidade_nutri from cultura\n",
        "inner join cult_nutri on (cult_nutri.fk_cultura_cod_plant = cultura.cod_plant)\n",
        "inner join nutrientes on (cult_nutri.fk_nutrientes_cod_nutri = nutrientes.cod_nutri )\n",
        "order by (quantidade_nutri) desc\n",
        "limit 10;\n",
        ";\n",
        "                            \"\"\",conn)\n",
        "result1"
      ],
      "execution_count": 0,
      "outputs": [
        {
          "output_type": "execute_result",
          "data": {
            "text/html": [
              "<div>\n",
              "<style scoped>\n",
              "    .dataframe tbody tr th:only-of-type {\n",
              "        vertical-align: middle;\n",
              "    }\n",
              "\n",
              "    .dataframe tbody tr th {\n",
              "        vertical-align: top;\n",
              "    }\n",
              "\n",
              "    .dataframe thead th {\n",
              "        text-align: right;\n",
              "    }\n",
              "</style>\n",
              "<table border=\"1\" class=\"dataframe\">\n",
              "  <thead>\n",
              "    <tr style=\"text-align: right;\">\n",
              "      <th></th>\n",
              "      <th>cod_plant</th>\n",
              "      <th>nome_cult</th>\n",
              "      <th>quantidade_nutri</th>\n",
              "    </tr>\n",
              "  </thead>\n",
              "  <tbody>\n",
              "    <tr>\n",
              "      <th>0</th>\n",
              "      <td>11111</td>\n",
              "      <td>Batata</td>\n",
              "      <td>2</td>\n",
              "    </tr>\n",
              "    <tr>\n",
              "      <th>1</th>\n",
              "      <td>22222</td>\n",
              "      <td>Batata doce</td>\n",
              "      <td>2</td>\n",
              "    </tr>\n",
              "    <tr>\n",
              "      <th>2</th>\n",
              "      <td>33333</td>\n",
              "      <td>Rabanete</td>\n",
              "      <td>2</td>\n",
              "    </tr>\n",
              "    <tr>\n",
              "      <th>3</th>\n",
              "      <td>44444</td>\n",
              "      <td>Beterraba</td>\n",
              "      <td>2</td>\n",
              "    </tr>\n",
              "    <tr>\n",
              "      <th>4</th>\n",
              "      <td>55555</td>\n",
              "      <td>Milho</td>\n",
              "      <td>2</td>\n",
              "    </tr>\n",
              "    <tr>\n",
              "      <th>5</th>\n",
              "      <td>77777</td>\n",
              "      <td>Soja</td>\n",
              "      <td>2</td>\n",
              "    </tr>\n",
              "    <tr>\n",
              "      <th>6</th>\n",
              "      <td>11112</td>\n",
              "      <td>Arroz</td>\n",
              "      <td>2</td>\n",
              "    </tr>\n",
              "    <tr>\n",
              "      <th>7</th>\n",
              "      <td>88888</td>\n",
              "      <td>Alface</td>\n",
              "      <td>1</td>\n",
              "    </tr>\n",
              "    <tr>\n",
              "      <th>8</th>\n",
              "      <td>66666</td>\n",
              "      <td>Café</td>\n",
              "      <td>1</td>\n",
              "    </tr>\n",
              "    <tr>\n",
              "      <th>9</th>\n",
              "      <td>99999</td>\n",
              "      <td>Tomate</td>\n",
              "      <td>1</td>\n",
              "    </tr>\n",
              "  </tbody>\n",
              "</table>\n",
              "</div>"
            ],
            "text/plain": [
              "   cod_plant    nome_cult  quantidade_nutri\n",
              "0      11111       Batata                 2\n",
              "1      22222  Batata doce                 2\n",
              "2      33333     Rabanete                 2\n",
              "3      44444    Beterraba                 2\n",
              "4      55555        Milho                 2\n",
              "5      77777         Soja                 2\n",
              "6      11112        Arroz                 2\n",
              "7      88888       Alface                 1\n",
              "8      66666         Café                 1\n",
              "9      99999       Tomate                 1"
            ]
          },
          "metadata": {
            "tags": []
          },
          "execution_count": 4
        }
      ]
    },
    {
      "metadata": {
        "id": "JpbNsCLQ5p51",
        "colab_type": "code",
        "colab": {}
      },
      "cell_type": "code",
      "source": [
        ""
      ],
      "execution_count": 0,
      "outputs": []
    },
    {
      "metadata": {
        "id": "pS3xqcjZ5p55",
        "colab_type": "text"
      },
      "cell_type": "markdown",
      "source": [
        "# História 2"
      ]
    },
    {
      "metadata": {
        "id": "eYO1t9XF5p57",
        "colab_type": "text"
      },
      "cell_type": "markdown",
      "source": [
        "### Objetivo: Obter os tipos de cultura que mais se repetem nas culturas<br>  Peso Planing Poker: 8"
      ]
    },
    {
      "metadata": {
        "id": "BF-zdGT75p58",
        "colab_type": "text"
      },
      "cell_type": "markdown",
      "source": [
        "codigo para obtenção do resultado:"
      ]
    },
    {
      "metadata": {
        "id": "z3XbSlUg5p59",
        "colab_type": "code",
        "outputId": "98adbba4-5849-4449-d806-dd9d542116b6",
        "colab": {
          "base_uri": "https://localhost:8080/",
          "height": 142
        }
      },
      "cell_type": "code",
      "source": [
        "result2 = pd.read_sql_query(\"\"\"\n",
        "                            Select cod_tipo, descr, Count(cod_tipo) as qtd from cultura\n",
        "inner join tipo_cultura on (cultura.fk_tipo_cultura_cod_tipo = tipo_cultura.cod_tipo)\n",
        "group by (cod_tipo)\n",
        "order by (count(cod_plant)) desc\n",
        "limit 5; \n",
        "                            \"\"\",conn)\n",
        "result2"
      ],
      "execution_count": 0,
      "outputs": [
        {
          "output_type": "execute_result",
          "data": {
            "text/html": [
              "<div>\n",
              "<style scoped>\n",
              "    .dataframe tbody tr th:only-of-type {\n",
              "        vertical-align: middle;\n",
              "    }\n",
              "\n",
              "    .dataframe tbody tr th {\n",
              "        vertical-align: top;\n",
              "    }\n",
              "\n",
              "    .dataframe thead th {\n",
              "        text-align: right;\n",
              "    }\n",
              "</style>\n",
              "<table border=\"1\" class=\"dataframe\">\n",
              "  <thead>\n",
              "    <tr style=\"text-align: right;\">\n",
              "      <th></th>\n",
              "      <th>cod_tipo</th>\n",
              "      <th>descr</th>\n",
              "      <th>qtd</th>\n",
              "    </tr>\n",
              "  </thead>\n",
              "  <tbody>\n",
              "    <tr>\n",
              "      <th>0</th>\n",
              "      <td>3</td>\n",
              "      <td>grão</td>\n",
              "      <td>4</td>\n",
              "    </tr>\n",
              "    <tr>\n",
              "      <th>1</th>\n",
              "      <td>1</td>\n",
              "      <td>tuberculo</td>\n",
              "      <td>4</td>\n",
              "    </tr>\n",
              "    <tr>\n",
              "      <th>2</th>\n",
              "      <td>2</td>\n",
              "      <td>leguminosa</td>\n",
              "      <td>2</td>\n",
              "    </tr>\n",
              "  </tbody>\n",
              "</table>\n",
              "</div>"
            ],
            "text/plain": [
              "   cod_tipo       descr  qtd\n",
              "0         3        grão    4\n",
              "1         1   tuberculo    4\n",
              "2         2  leguminosa    2"
            ]
          },
          "metadata": {
            "tags": []
          },
          "execution_count": 5
        }
      ]
    },
    {
      "metadata": {
        "id": "CwLQnjFS5p6H",
        "colab_type": "code",
        "outputId": "4e661f2f-5a08-4673-aee1-d1e322ec5475",
        "colab": {}
      },
      "cell_type": "code",
      "source": [
        "sns.barplot(x=result2.qtd,y=result2.descr)"
      ],
      "execution_count": 0,
      "outputs": [
        {
          "output_type": "execute_result",
          "data": {
            "text/plain": [
              "<matplotlib.axes._subplots.AxesSubplot at 0x118291f0>"
            ]
          },
          "metadata": {
            "tags": []
          },
          "execution_count": 43
        },
        {
          "output_type": "display_data",
          "data": {
            "image/png": "[encoded data removed]",
            "text/plain": [
              "<Figure size 432x288 with 1 Axes>"
            ]
          },
          "metadata": {
            "tags": [],
            "needs_background": "light"
          }
        }
      ]
    },
    {
      "metadata": {
        "id": "P7tV9M9R5p6N",
        "colab_type": "text"
      },
      "cell_type": "markdown",
      "source": [
        "# Historia 3"
      ]
    },
    {
      "metadata": {
        "id": "ntDsBgTN5p6O",
        "colab_type": "text"
      },
      "cell_type": "markdown",
      "source": [
        "### Objetivo: Obter os nutrientes que se repetem mais vezes nas culturas<br>  Peso Planing Poker: 8"
      ]
    },
    {
      "metadata": {
        "id": "6pz4AKMW5p6Q",
        "colab_type": "code",
        "outputId": "0d394583-bcbd-46c6-9041-65d3dcf1c1dc",
        "colab": {}
      },
      "cell_type": "code",
      "source": [
        "result3 = pd.read_sql_query(\"\"\"\n",
        "Select cod_nutri, nome_nutri, count(cod_plant) as qtd from cultura\n",
        "inner join cult_nutri on (cult_nutri.fk_cultura_cod_plant = cultura.cod_plant)\n",
        "inner join nutrientes on (cult_nutri.fk_nutrientes_cod_nutri = nutrientes.cod_nutri )\n",
        "group by (cod_nutri)\n",
        "order by (count(cod_plant)) desc\n",
        "limit 5;\n",
        "                            \"\"\",conn)\n",
        "result3"
      ],
      "execution_count": 0,
      "outputs": [
        {
          "output_type": "execute_result",
          "data": {
            "text/html": [
              "<div>\n",
              "<style scoped>\n",
              "    .dataframe tbody tr th:only-of-type {\n",
              "        vertical-align: middle;\n",
              "    }\n",
              "\n",
              "    .dataframe tbody tr th {\n",
              "        vertical-align: top;\n",
              "    }\n",
              "\n",
              "    .dataframe thead th {\n",
              "        text-align: right;\n",
              "    }\n",
              "</style>\n",
              "<table border=\"1\" class=\"dataframe\">\n",
              "  <thead>\n",
              "    <tr style=\"text-align: right;\">\n",
              "      <th></th>\n",
              "      <th>cod_nutri</th>\n",
              "      <th>nome_nutri</th>\n",
              "      <th>qtd</th>\n",
              "    </tr>\n",
              "  </thead>\n",
              "  <tbody>\n",
              "    <tr>\n",
              "      <th>0</th>\n",
              "      <td>303</td>\n",
              "      <td>Potássio</td>\n",
              "      <td>3</td>\n",
              "    </tr>\n",
              "    <tr>\n",
              "      <th>1</th>\n",
              "      <td>606</td>\n",
              "      <td>Nitrogênio</td>\n",
              "      <td>2</td>\n",
              "    </tr>\n",
              "    <tr>\n",
              "      <th>2</th>\n",
              "      <td>101</td>\n",
              "      <td>Ferro</td>\n",
              "      <td>2</td>\n",
              "    </tr>\n",
              "    <tr>\n",
              "      <th>3</th>\n",
              "      <td>404</td>\n",
              "      <td>Fósforo</td>\n",
              "      <td>1</td>\n",
              "    </tr>\n",
              "    <tr>\n",
              "      <th>4</th>\n",
              "      <td>909</td>\n",
              "      <td>Boro</td>\n",
              "      <td>1</td>\n",
              "    </tr>\n",
              "  </tbody>\n",
              "</table>\n",
              "</div>"
            ],
            "text/plain": [
              "   cod_nutri  nome_nutri  qtd\n",
              "0        303    Potássio    3\n",
              "1        606  Nitrogênio    2\n",
              "2        101       Ferro    2\n",
              "3        404     Fósforo    1\n",
              "4        909        Boro    1"
            ]
          },
          "metadata": {
            "tags": []
          },
          "execution_count": 44
        }
      ]
    },
    {
      "metadata": {
        "id": "qLo9uBxY5p6W",
        "colab_type": "code",
        "outputId": "46ae5cee-398c-4871-a454-7698440d6c21",
        "colab": {}
      },
      "cell_type": "code",
      "source": [
        "sns.barplot(x=result3.qtd,y=result3.nome_nutri)"
      ],
      "execution_count": 0,
      "outputs": [
        {
          "output_type": "execute_result",
          "data": {
            "text/plain": [
              "<matplotlib.axes._subplots.AxesSubplot at 0x11865d30>"
            ]
          },
          "metadata": {
            "tags": []
          },
          "execution_count": 45
        },
        {
          "output_type": "display_data",
          "data": {
            "image/png": "[encoded data removed]",
            "text/plain": [
              "<Figure size 432x288 with 1 Axes>"
            ]
          },
          "metadata": {
            "tags": [],
            "needs_background": "light"
          }
        }
      ]
    },
    {
      "metadata": {
        "id": "d4ibaAPP5p6c",
        "colab_type": "code",
        "colab": {}
      },
      "cell_type": "code",
      "source": [
        ""
      ],
      "execution_count": 0,
      "outputs": []
    },
    {
      "metadata": {
        "id": "Ta78KttR5p6f",
        "colab_type": "text"
      },
      "cell_type": "markdown",
      "source": [
        "# Historia 4"
      ]
    },
    {
      "metadata": {
        "id": "jqI6sk9e5p6h",
        "colab_type": "text"
      },
      "cell_type": "markdown",
      "source": [
        "### Objetivo: Obter a quantidade de áreas registradas em cada pais<br>  Peso Planing Poker: 13"
      ]
    },
    {
      "metadata": {
        "id": "28IOg_Wq5p6j",
        "colab_type": "code",
        "outputId": "f0f0f7b5-fd0a-49d0-dc43-b7d60da67deb",
        "colab": {}
      },
      "cell_type": "code",
      "source": [
        "result4 = pd.read_sql_query(\"\"\"\n",
        "Select pais.cod_pais, pais.descr, count(numero_da_area) as quantidade_de_areas from area\n",
        "inner join usuario on (area.fk_usuario_cod_usuario = usuario.cod_usuario)\n",
        "inner join endereco on (usuario.fk_endereco_cod_endereco = endereco.cod_endereco)\n",
        "inner join bairro on (endereco.fk_bairro_cod_bair = bairro.cod_bair)\n",
        "inner join municipio on (bairro.fk_municipio_cod_mun = municipio.cod_mun)\n",
        "inner join estado on (municipio.fk_estado_cod_est = estado.cod_est)\n",
        "inner join pais on (estado.fk_pais_cod_pais = pais.cod_pais)\n",
        "group by pais.cod_pais\n",
        "                            \"\"\",conn)\n",
        "result4"
      ],
      "execution_count": 0,
      "outputs": [
        {
          "output_type": "execute_result",
          "data": {
            "text/html": [
              "<div>\n",
              "<style scoped>\n",
              "    .dataframe tbody tr th:only-of-type {\n",
              "        vertical-align: middle;\n",
              "    }\n",
              "\n",
              "    .dataframe tbody tr th {\n",
              "        vertical-align: top;\n",
              "    }\n",
              "\n",
              "    .dataframe thead th {\n",
              "        text-align: right;\n",
              "    }\n",
              "</style>\n",
              "<table border=\"1\" class=\"dataframe\">\n",
              "  <thead>\n",
              "    <tr style=\"text-align: right;\">\n",
              "      <th></th>\n",
              "      <th>cod_pais</th>\n",
              "      <th>descr</th>\n",
              "      <th>quantidade_de_areas</th>\n",
              "    </tr>\n",
              "  </thead>\n",
              "  <tbody>\n",
              "    <tr>\n",
              "      <th>0</th>\n",
              "      <td>2</td>\n",
              "      <td>Argentina</td>\n",
              "      <td>3</td>\n",
              "    </tr>\n",
              "    <tr>\n",
              "      <th>1</th>\n",
              "      <td>4</td>\n",
              "      <td>Venezuela</td>\n",
              "      <td>2</td>\n",
              "    </tr>\n",
              "    <tr>\n",
              "      <th>2</th>\n",
              "      <td>1</td>\n",
              "      <td>Brasil</td>\n",
              "      <td>2</td>\n",
              "    </tr>\n",
              "    <tr>\n",
              "      <th>3</th>\n",
              "      <td>3</td>\n",
              "      <td>Chile</td>\n",
              "      <td>3</td>\n",
              "    </tr>\n",
              "  </tbody>\n",
              "</table>\n",
              "</div>"
            ],
            "text/plain": [
              "   cod_pais      descr  quantidade_de_areas\n",
              "0         2  Argentina                    3\n",
              "1         4  Venezuela                    2\n",
              "2         1     Brasil                    2\n",
              "3         3      Chile                    3"
            ]
          },
          "metadata": {
            "tags": []
          },
          "execution_count": 11
        }
      ]
    },
    {
      "metadata": {
        "id": "f4rYikBa5p6q",
        "colab_type": "code",
        "outputId": "72c7dd7f-6a42-41a2-92ae-6a5ee71456f8",
        "colab": {}
      },
      "cell_type": "code",
      "source": [
        "sns.barplot(x=result4.descr,y=result4.quantidade_de_areas)"
      ],
      "execution_count": 0,
      "outputs": [
        {
          "output_type": "execute_result",
          "data": {
            "text/plain": [
              "<matplotlib.axes._subplots.AxesSubplot at 0xf87d0b0>"
            ]
          },
          "metadata": {
            "tags": []
          },
          "execution_count": 12
        },
        {
          "output_type": "display_data",
          "data": {
            "image/png": "[encoded data removed]",
            "text/plain": [
              "<Figure size 432x288 with 1 Axes>"
            ]
          },
          "metadata": {
            "tags": [],
            "needs_background": "light"
          }
        }
      ]
    },
    {
      "metadata": {
        "id": "HIB3W2CH5p60",
        "colab_type": "code",
        "colab": {}
      },
      "cell_type": "code",
      "source": [
        ""
      ],
      "execution_count": 0,
      "outputs": []
    },
    {
      "metadata": {
        "id": "FvbEKAzt5p64",
        "colab_type": "text"
      },
      "cell_type": "markdown",
      "source": [
        "# Historia 5"
      ]
    },
    {
      "metadata": {
        "id": "6OuMrBIC5p66",
        "colab_type": "text"
      },
      "cell_type": "markdown",
      "source": [
        "### Objetivo: Obter a soma total do tamanho das áreas em cada pais<br>  Peso Planing Poker: 13"
      ]
    },
    {
      "metadata": {
        "id": "JayML4kI5p69",
        "colab_type": "code",
        "outputId": "366269ae-e609-413e-8311-4b4acad52c65",
        "colab": {}
      },
      "cell_type": "code",
      "source": [
        "result5 = pd.read_sql_query(\"\"\"\n",
        "Select pais.cod_pais, pais.descr, sum(tamanho) as tamanho_da_area_em_hec from area\n",
        "inner join usuario on (area.fk_usuario_cod_usuario = usuario.cod_usuario)\n",
        "inner join endereco on (usuario.fk_endereco_cod_endereco = endereco.cod_endereco)\n",
        "inner join bairro on (endereco.fk_bairro_cod_bair = bairro.cod_bair)\n",
        "inner join municipio on (bairro.fk_municipio_cod_mun = municipio.cod_mun)\n",
        "inner join estado on (municipio.fk_estado_cod_est = estado.cod_est)\n",
        "inner join pais on (estado.fk_pais_cod_pais = pais.cod_pais)\n",
        "group by pais.cod_pais\n",
        "                            \"\"\",conn)\n",
        "result5"
      ],
      "execution_count": 0,
      "outputs": [
        {
          "output_type": "execute_result",
          "data": {
            "text/html": [
              "<div>\n",
              "<style scoped>\n",
              "    .dataframe tbody tr th:only-of-type {\n",
              "        vertical-align: middle;\n",
              "    }\n",
              "\n",
              "    .dataframe tbody tr th {\n",
              "        vertical-align: top;\n",
              "    }\n",
              "\n",
              "    .dataframe thead th {\n",
              "        text-align: right;\n",
              "    }\n",
              "</style>\n",
              "<table border=\"1\" class=\"dataframe\">\n",
              "  <thead>\n",
              "    <tr style=\"text-align: right;\">\n",
              "      <th></th>\n",
              "      <th>cod_pais</th>\n",
              "      <th>descr</th>\n",
              "      <th>tamanho_da_area_em_hec</th>\n",
              "    </tr>\n",
              "  </thead>\n",
              "  <tbody>\n",
              "    <tr>\n",
              "      <th>0</th>\n",
              "      <td>2</td>\n",
              "      <td>Argentina</td>\n",
              "      <td>6</td>\n",
              "    </tr>\n",
              "    <tr>\n",
              "      <th>1</th>\n",
              "      <td>4</td>\n",
              "      <td>Venezuela</td>\n",
              "      <td>2</td>\n",
              "    </tr>\n",
              "    <tr>\n",
              "      <th>2</th>\n",
              "      <td>1</td>\n",
              "      <td>Brasil</td>\n",
              "      <td>3</td>\n",
              "    </tr>\n",
              "    <tr>\n",
              "      <th>3</th>\n",
              "      <td>3</td>\n",
              "      <td>Chile</td>\n",
              "      <td>16</td>\n",
              "    </tr>\n",
              "  </tbody>\n",
              "</table>\n",
              "</div>"
            ],
            "text/plain": [
              "   cod_pais      descr  tamanho_da_area_em_hec\n",
              "0         2  Argentina                       6\n",
              "1         4  Venezuela                       2\n",
              "2         1     Brasil                       3\n",
              "3         3      Chile                      16"
            ]
          },
          "metadata": {
            "tags": []
          },
          "execution_count": 14
        }
      ]
    },
    {
      "metadata": {
        "id": "uq_1AutW5p7F",
        "colab_type": "code",
        "outputId": "befc5240-a9cf-4f04-f3b2-8c0cdc469135",
        "colab": {}
      },
      "cell_type": "code",
      "source": [
        "sns.barplot(x=result5.descr,y=result5.tamanho_da_area_em_hec)"
      ],
      "execution_count": 0,
      "outputs": [
        {
          "output_type": "execute_result",
          "data": {
            "text/plain": [
              "<matplotlib.axes._subplots.AxesSubplot at 0x108eb150>"
            ]
          },
          "metadata": {
            "tags": []
          },
          "execution_count": 15
        },
        {
          "output_type": "display_data",
          "data": {
            "image/png": "[encoded data removed]",
            "text/plain": [
              "<Figure size 432x288 with 1 Axes>"
            ]
          },
          "metadata": {
            "tags": [],
            "needs_background": "light"
          }
        }
      ]
    },
    {
      "metadata": {
        "id": "xv8tLQ-s5p7N",
        "colab_type": "text"
      },
      "cell_type": "markdown",
      "source": [
        "# Historia 6"
      ]
    },
    {
      "metadata": {
        "id": "zMIHM-CS5p7P",
        "colab_type": "text"
      },
      "cell_type": "markdown",
      "source": [
        "### Objetivo: Obter a quantidade de áreas que existem em cada município<br>  Peso Planing Poker: 13"
      ]
    },
    {
      "metadata": {
        "id": "mw7h1Fcn5p7P",
        "colab_type": "code",
        "outputId": "39ad69de-2592-431a-839b-188535239eff",
        "colab": {}
      },
      "cell_type": "code",
      "source": [
        "result6 = pd.read_sql_query(\"\"\"\n",
        "Select municipio.cod_mun, municipio.descr, count(numero_da_area) as quantidade_de_areas from area\n",
        "inner join usuario on (area.fk_usuario_cod_usuario = usuario.cod_usuario)\n",
        "inner join endereco on (usuario.fk_endereco_cod_endereco = endereco.cod_endereco)\n",
        "inner join bairro on (endereco.fk_bairro_cod_bair = bairro.cod_bair)\n",
        "inner join municipio on (bairro.fk_municipio_cod_mun = municipio.cod_mun)\n",
        "group by municipio.cod_mun\n",
        "                            \"\"\",conn)\n",
        "result6"
      ],
      "execution_count": 0,
      "outputs": [
        {
          "output_type": "execute_result",
          "data": {
            "text/html": [
              "<div>\n",
              "<style scoped>\n",
              "    .dataframe tbody tr th:only-of-type {\n",
              "        vertical-align: middle;\n",
              "    }\n",
              "\n",
              "    .dataframe tbody tr th {\n",
              "        vertical-align: top;\n",
              "    }\n",
              "\n",
              "    .dataframe thead th {\n",
              "        text-align: right;\n",
              "    }\n",
              "</style>\n",
              "<table border=\"1\" class=\"dataframe\">\n",
              "  <thead>\n",
              "    <tr style=\"text-align: right;\">\n",
              "      <th></th>\n",
              "      <th>cod_mun</th>\n",
              "      <th>descr</th>\n",
              "      <th>quantidade_de_areas</th>\n",
              "    </tr>\n",
              "  </thead>\n",
              "  <tbody>\n",
              "    <tr>\n",
              "      <th>0</th>\n",
              "      <td>2</td>\n",
              "      <td>São Paulo</td>\n",
              "      <td>3</td>\n",
              "    </tr>\n",
              "    <tr>\n",
              "      <th>1</th>\n",
              "      <td>4</td>\n",
              "      <td>Taguatinga</td>\n",
              "      <td>2</td>\n",
              "    </tr>\n",
              "    <tr>\n",
              "      <th>2</th>\n",
              "      <td>1</td>\n",
              "      <td>Rio de Janeiro</td>\n",
              "      <td>2</td>\n",
              "    </tr>\n",
              "    <tr>\n",
              "      <th>3</th>\n",
              "      <td>3</td>\n",
              "      <td>Vitória</td>\n",
              "      <td>3</td>\n",
              "    </tr>\n",
              "  </tbody>\n",
              "</table>\n",
              "</div>"
            ],
            "text/plain": [
              "   cod_mun           descr  quantidade_de_areas\n",
              "0        2       São Paulo                    3\n",
              "1        4      Taguatinga                    2\n",
              "2        1  Rio de Janeiro                    2\n",
              "3        3         Vitória                    3"
            ]
          },
          "metadata": {
            "tags": []
          },
          "execution_count": 16
        }
      ]
    },
    {
      "metadata": {
        "id": "wrUJmb2s5p7V",
        "colab_type": "code",
        "colab": {}
      },
      "cell_type": "code",
      "source": [
        ""
      ],
      "execution_count": 0,
      "outputs": []
    },
    {
      "metadata": {
        "id": "dl4LVtf95p7Z",
        "colab_type": "text"
      },
      "cell_type": "markdown",
      "source": [
        "# Historia 7"
      ]
    },
    {
      "metadata": {
        "id": "nMdmjb2z5p7b",
        "colab_type": "text"
      },
      "cell_type": "markdown",
      "source": [
        "### Objetivo: Obter a quantidade de áreas em que foram plantados cada tipo de cultura em cada municipio <br>  Peso Planing Poker: 20"
      ]
    },
    {
      "metadata": {
        "id": "G8zuHENN5p7c",
        "colab_type": "code",
        "outputId": "59e941be-8e5f-41f0-c8ca-d70d57c74038",
        "colab": {}
      },
      "cell_type": "code",
      "source": [
        "result7 = pd.read_sql_query(\"\"\"\n",
        "Select tipo_cultura.descr as tipo_de_cultura, municipio.descr as municipio, count(numero_da_area) as quantidade_de_areas from area\n",
        "inner join usuario on (area.fk_usuario_cod_usuario = usuario.cod_usuario)\n",
        "inner join endereco on (usuario.fk_endereco_cod_endereco = endereco.cod_endereco)\n",
        "inner join bairro on (endereco.fk_bairro_cod_bair = bairro.cod_bair)\n",
        "inner join municipio on (bairro.fk_municipio_cod_mun = municipio.cod_mun)\n",
        "inner join cultura on (area.fk_cultura_cod_plant = cultura.cod_plant)\n",
        "inner join tipo_cultura on (cultura.fk_tipo_cultura_cod_tipo = tipo_cultura.cod_tipo)\n",
        "group by tipo_cultura.cod_tipo, municipio.cod_mun\n",
        "order by tipo_cultura.descr\n",
        "                            \"\"\",conn)\n",
        "result7"
      ],
      "execution_count": 0,
      "outputs": [
        {
          "output_type": "execute_result",
          "data": {
            "text/html": [
              "<div>\n",
              "<style scoped>\n",
              "    .dataframe tbody tr th:only-of-type {\n",
              "        vertical-align: middle;\n",
              "    }\n",
              "\n",
              "    .dataframe tbody tr th {\n",
              "        vertical-align: top;\n",
              "    }\n",
              "\n",
              "    .dataframe thead th {\n",
              "        text-align: right;\n",
              "    }\n",
              "</style>\n",
              "<table border=\"1\" class=\"dataframe\">\n",
              "  <thead>\n",
              "    <tr style=\"text-align: right;\">\n",
              "      <th></th>\n",
              "      <th>tipo_de_cultura</th>\n",
              "      <th>municipio</th>\n",
              "      <th>quantidade_de_areas</th>\n",
              "    </tr>\n",
              "  </thead>\n",
              "  <tbody>\n",
              "    <tr>\n",
              "      <th>0</th>\n",
              "      <td>grão</td>\n",
              "      <td>Vitória</td>\n",
              "      <td>1</td>\n",
              "    </tr>\n",
              "    <tr>\n",
              "      <th>1</th>\n",
              "      <td>grão</td>\n",
              "      <td>São Paulo</td>\n",
              "      <td>2</td>\n",
              "    </tr>\n",
              "    <tr>\n",
              "      <th>2</th>\n",
              "      <td>grão</td>\n",
              "      <td>Rio de Janeiro</td>\n",
              "      <td>1</td>\n",
              "    </tr>\n",
              "    <tr>\n",
              "      <th>3</th>\n",
              "      <td>leguminosa</td>\n",
              "      <td>Vitória</td>\n",
              "      <td>2</td>\n",
              "    </tr>\n",
              "    <tr>\n",
              "      <th>4</th>\n",
              "      <td>tuberculo</td>\n",
              "      <td>Rio de Janeiro</td>\n",
              "      <td>1</td>\n",
              "    </tr>\n",
              "    <tr>\n",
              "      <th>5</th>\n",
              "      <td>tuberculo</td>\n",
              "      <td>Taguatinga</td>\n",
              "      <td>2</td>\n",
              "    </tr>\n",
              "    <tr>\n",
              "      <th>6</th>\n",
              "      <td>tuberculo</td>\n",
              "      <td>São Paulo</td>\n",
              "      <td>1</td>\n",
              "    </tr>\n",
              "  </tbody>\n",
              "</table>\n",
              "</div>"
            ],
            "text/plain": [
              "  tipo_de_cultura       municipio  quantidade_de_areas\n",
              "0            grão         Vitória                    1\n",
              "1            grão       São Paulo                    2\n",
              "2            grão  Rio de Janeiro                    1\n",
              "3      leguminosa         Vitória                    2\n",
              "4       tuberculo  Rio de Janeiro                    1\n",
              "5       tuberculo      Taguatinga                    2\n",
              "6       tuberculo       São Paulo                    1"
            ]
          },
          "metadata": {
            "tags": []
          },
          "execution_count": 17
        }
      ]
    },
    {
      "metadata": {
        "id": "EzXitsDz5p7k",
        "colab_type": "code",
        "colab": {}
      },
      "cell_type": "code",
      "source": [
        ""
      ],
      "execution_count": 0,
      "outputs": []
    },
    {
      "metadata": {
        "id": "dewCDbs65p7o",
        "colab_type": "text"
      },
      "cell_type": "markdown",
      "source": [
        "References"
      ]
    },
    {
      "metadata": {
        "id": "buCu2gCD5p7q",
        "colab_type": "text"
      },
      "cell_type": "markdown",
      "source": [
        "https://pandas.pydata.org/pandas-docs/stable/style.html <br>\n",
        "https://pythonspot.com/matplotlib-bar-chart/"
      ]
    },
    {
      "metadata": {
        "id": "HtRi5PmE5p7s",
        "colab_type": "code",
        "colab": {}
      },
      "cell_type": "code",
      "source": [
        ""
      ],
      "execution_count": 0,
      "outputs": []
    }
  ]
}